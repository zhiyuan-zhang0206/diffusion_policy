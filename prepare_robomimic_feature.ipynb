{
 "cells": [
  {
   "cell_type": "code",
   "execution_count": 3,
   "metadata": {},
   "outputs": [
    {
     "name": "stderr",
     "output_type": "stream",
     "text": [
      "Loading lowdim data: 100%|██████████| 4/4 [00:00<00:00, 67.56it/s]\n",
      "Loading image data: 100%|██████████| 19332/19332 [00:06<00:00, 2934.18it/s]\n",
      "100%|██████████| 76/76 [00:21<00:00,  3.58it/s]\n"
     ]
    },
    {
     "name": "stdout",
     "output_type": "stream",
     "text": [
      "torch.Size([9666, 512]) torch.Size([9666, 16, 10])\n"
     ]
    },
    {
     "name": "stderr",
     "output_type": "stream",
     "text": [
      "Loading lowdim data: 100%|██████████| 4/4 [00:00<00:00, 21.03it/s]\n",
      "Loading image data: 100%|██████████| 46414/46414 [00:19<00:00, 2435.69it/s]\n",
      "100%|██████████| 182/182 [01:21<00:00,  2.24it/s]\n"
     ]
    },
    {
     "name": "stdout",
     "output_type": "stream",
     "text": [
      "torch.Size([23207, 512]) torch.Size([23207, 16, 10])\n"
     ]
    },
    {
     "name": "stderr",
     "output_type": "stream",
     "text": [
      "Loading lowdim data: 100%|██████████| 4/4 [00:00<00:00, 21.99it/s]\n",
      "Loading image data: 100%|██████████| 60308/60308 [00:24<00:00, 2493.09it/s]\n",
      "100%|██████████| 236/236 [01:20<00:00,  2.94it/s]\n"
     ]
    },
    {
     "name": "stdout",
     "output_type": "stream",
     "text": [
      "torch.Size([30154, 512]) torch.Size([30154, 16, 10])\n"
     ]
    },
    {
     "ename": "",
     "evalue": "",
     "output_type": "error",
     "traceback": [
      "\u001b[1;31mThe Kernel crashed while executing code in the current cell or a previous cell. \n",
      "\u001b[1;31mPlease review the code in the cell(s) to identify a possible cause of the failure. \n",
      "\u001b[1;31mClick <a href='https://aka.ms/vscodeJupyterKernelCrash'>here</a> for more info. \n",
      "\u001b[1;31mView Jupyter <a href='command:jupyter.viewOutput'>log</a> for further details."
     ]
    }
   ],
   "source": [
    "import os\n",
    "os.environ[\"HYDRA_FULL_ERROR\"] = \"1\"\n",
    "os.environ[\"DATA_ROOT\"] = \"/home/zzy/robot/data/diffusion_policy_data/data\"\n",
    "os.environ[\"R3M_HOME\"] = \"/home/zzy/robot/data/.r3m\"\n",
    "os.environ[\"HF_HOME\"] = \"/home/zzy/robot/data/.huggingface\"\n",
    "os.environ[\"HF_ENDPOINT\"] = \"https://hf-mirror.com\"\n",
    "os.environ[\"ZZY_DEBUG\"] = \"True\"\n",
    "import torch\n",
    "from pathlib import Path\n",
    "import numpy as np\n",
    "from diffusion_policy.model.vision.r3m import R3MImageEncoderWrapper\n",
    "from diffusion_policy.dataset.robomimic_replay_image_dataset import RobomimicReplayImageLanguageDataset\n",
    "from torch.utils.data import ConcatDataset, DataLoader\n",
    "from tqdm.auto import tqdm\n",
    "from loguru import logger\n",
    "import zzy_utils\n",
    "model = R3MImageEncoderWrapper()\n",
    "dataset_path = \"/home/zzy/robot/data/diffusion_policy_data/data/robomimic/datasets/lift/ph/image_abs.hdf5\"\n",
    "dataset_root = Path(\"/home/zzy/robot/data/diffusion_policy_data/data/robomimic/datasets\")\n",
    "for task in ['lift', 'can', 'square']:\n",
    "    for data_type in ['ph']:\n",
    "        dataset_path =(dataset_root / task / data_type / 'image_abs.hdf5').as_posix()\n",
    "        dataset = RobomimicReplayImageLanguageDataset(\n",
    "                dataset_path=dataset_path,\n",
    "                # include_tasks=['lift', 'can', 'square'],\n",
    "                # data_type='ph',\n",
    "                shape_meta= {\n",
    "                    'obs': {\n",
    "                        'agentview_image': {\n",
    "                            'shape': [3, 84, 84],\n",
    "                            'type': 'rgb'\n",
    "                            },\n",
    "                            'robot0_eye_in_hand_image': {\n",
    "                                'shape': [3, 84, 84],\n",
    "                                'type': 'rgb'\n",
    "                            },\n",
    "                            'robot0_eef_pos': {\n",
    "                                'shape': [3]\n",
    "                                # type default: low_dim\n",
    "                            },\n",
    "                            'robot0_eef_quat': {\n",
    "                                'shape': [4]\n",
    "                            },\n",
    "                            'robot0_gripper_qpos': {\n",
    "                                'shape': [2]\n",
    "                            }\n",
    "                        },\n",
    "                        'action': {\n",
    "                            'shape': [10]\n",
    "                        }\n",
    "                        },\n",
    "                horizon=16,\n",
    "                pad_before=0,\n",
    "                pad_after=15,\n",
    "                n_obs_steps=1,\n",
    "                abs_action=True,\n",
    "                rotation_rep='rotation_6d',\n",
    "                use_legacy_normalizer=False,\n",
    "                use_cache=False,\n",
    "                seed=42,\n",
    "                val_ratio=0.00,\n",
    "                load_image_features=False\n",
    "                )\n",
    "\n",
    "    # break\n",
    "\n",
    "        whole_dataset = ConcatDataset([dataset, dataset.get_validation_dataset()])\n",
    "        dataloader = DataLoader(whole_dataset, batch_size=128, num_workers=0, shuffle=False)\n",
    "\n",
    "        device = torch.device(\"cuda\" if torch.cuda.is_available() else \"cpu\")\n",
    "        features = []\n",
    "        actions = []\n",
    "        # logger.info(\"start\")\n",
    "        for data in tqdm(dataloader):\n",
    "            # print(data)\n",
    "            # zzy_utils.pretty_print(data)\n",
    "            features.append(model(data['obs']['image'].to(device)))\n",
    "            actions.append(data['action'].to(device))\n",
    "            # break\n",
    "            # print(features.shape)\n",
    "            # break\n",
    "        features = torch.cat(features, dim=0)\n",
    "        actions = torch.cat(actions, dim=0)\n",
    "        print(features.shape, actions.shape)\n",
    "\n",
    "        save_path = Path(dataset_path).absolute().as_posix().removesuffix('.hdf5') + '_features.npy'\n",
    "        np.save(save_path, features.cpu().numpy())\n",
    "        save_path = Path(dataset_path).absolute().as_posix().removesuffix('.hdf5') + '_actions.npy'\n",
    "        np.save(save_path, actions.cpu().numpy())\n",
    "\n",
    "# save_path = Path(dataset_path).absolute().as_posix().removesuffix('.hdf5') + '_features.npy'\n",
    "# loaded = torch.load(save_path)\n",
    "# print(torch.allclose(loaded, features))\n"
   ]
  }
 ],
 "metadata": {
  "kernelspec": {
   "display_name": "robodiff",
   "language": "python",
   "name": "python3"
  },
  "language_info": {
   "codemirror_mode": {
    "name": "ipython",
    "version": 3
   },
   "file_extension": ".py",
   "mimetype": "text/x-python",
   "name": "python",
   "nbconvert_exporter": "python",
   "pygments_lexer": "ipython3",
   "version": "3.9.18"
  }
 },
 "nbformat": 4,
 "nbformat_minor": 2
}
